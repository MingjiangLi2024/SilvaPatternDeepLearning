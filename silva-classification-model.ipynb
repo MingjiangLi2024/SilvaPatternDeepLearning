{
 "cells": [
  {
   "cell_type": "code",
   "execution_count": null,
   "id": "193c1e73",
   "metadata": {
    "_cell_guid": "b1076dfc-b9ad-4769-8c92-a6c4dae69d19",
    "_uuid": "8f2839f25d086af736a60e9eeb907d3b93b6e0e5",
    "execution": {
     "iopub.execute_input": "2021-12-08T08:53:26.507538Z",
     "iopub.status.busy": "2021-12-08T08:53:26.506043Z",
     "iopub.status.idle": "2021-12-08T08:53:28.347418Z",
     "shell.execute_reply": "2021-12-08T08:53:28.346811Z",
     "shell.execute_reply.started": "2021-12-08T08:20:29.240671Z"
    },
    "papermill": {
     "duration": 1.862485,
     "end_time": "2021-12-08T08:53:28.347587",
     "exception": false,
     "start_time": "2021-12-08T08:53:26.485102",
     "status": "completed"
    },
    "tags": []
   },
   "outputs": [],
   "source": [
    "import cv2\n",
    "import imgaug\n",
    "import numpy as np\n",
    "import glob\n",
    "import matplotlib.pyplot as plt\n",
    "import os\n",
    "from skimage.exposure import match_histograms"
   ]
  },
  {
   "cell_type": "code",
   "execution_count": null,
   "id": "11d30957",
   "metadata": {
    "execution": {
     "iopub.execute_input": "2021-12-08T08:53:28.381730Z",
     "iopub.status.busy": "2021-12-08T08:53:28.380821Z",
     "iopub.status.idle": "2021-12-08T08:53:28.382705Z",
     "shell.execute_reply": "2021-12-08T08:53:28.383160Z",
     "shell.execute_reply.started": "2021-12-08T08:20:31.398672Z"
    },
    "papermill": {
     "duration": 0.020534,
     "end_time": "2021-12-08T08:53:28.383284",
     "exception": false,
     "start_time": "2021-12-08T08:53:28.362750",
     "status": "completed"
    },
    "tags": []
   },
   "outputs": [],
   "source": [
    "root = '../input/cervical-adenocarcinoma-silva-classification/Cervial Silva/'\n",
    "label = {\n",
    "    'Class A': 0, \n",
    "    'Class B': 1,\n",
    "    'Class C': 2\n",
    "}"
   ]
  },
  {
   "cell_type": "markdown",
   "id": "32335e43",
   "metadata": {
    "papermill": {
     "duration": 0.013662,
     "end_time": "2021-12-08T08:53:28.411396",
     "exception": false,
     "start_time": "2021-12-08T08:53:28.397734",
     "status": "completed"
    },
    "tags": []
   },
   "source": [
    "#### Color Normalization \n",
    "\n",
    "Here we use a templated-based histogram match algorithm to implement color normalization so that the difference of color in histology image will be minimized. Histogram matching algorithm from skimage.exposure package is used. "
   ]
  },
  {
   "cell_type": "code",
   "execution_count": null,
   "id": "cbec7e44",
   "metadata": {
    "execution": {
     "iopub.execute_input": "2021-12-08T08:53:28.447177Z",
     "iopub.status.busy": "2021-12-08T08:53:28.446553Z",
     "iopub.status.idle": "2021-12-08T08:53:44.275466Z",
     "shell.execute_reply": "2021-12-08T08:53:44.275942Z",
     "shell.execute_reply.started": "2021-12-08T08:20:31.404883Z"
    },
    "papermill": {
     "duration": 15.850847,
     "end_time": "2021-12-08T08:53:44.276112",
     "exception": false,
     "start_time": "2021-12-08T08:53:28.425265",
     "status": "completed"
    },
    "tags": []
   },
   "outputs": [],
   "source": [
    "# reference image is chosen by pathologist, which is stained in good condition. \n",
    "reference = '../input/cervical-adenocarcinoma-silva-classification/Cervial Silva/Class A/E2016523-2.jpg'\n",
    "\n",
    "test_img = ['../input/cervical-adenocarcinoma-silva-classification/Cervial Silva/Class A/E1711105-2.jpg',\n",
    "            '../input/cervical-adenocarcinoma-silva-classification/Cervial Silva/Class A/S1814246-2.jpg',\n",
    "            '../input/cervical-adenocarcinoma-silva-classification/Cervial Silva/Class B/E1500920-2.jpg',\n",
    "            '../input/cervical-adenocarcinoma-silva-classification/Cervial Silva/Class B/S1815863-2.jpg',\n",
    "            '../input/cervical-adenocarcinoma-silva-classification/Cervial Silva/Class C/E1409496-2.jpg',\n",
    "            '../input/cervical-adenocarcinoma-silva-classification/Cervial Silva/Class C/S1806161-2.jpg']\n",
    "\n",
    "plt.figure(figsize=(15,30))\n",
    "for i in range(len(test_img)):\n",
    "    ref = cv2.imread(reference)\n",
    "    img = cv2.imread(test_img[i])\n",
    "    normed = match_histograms(img, ref, multichannel=True)\n",
    "    \n",
    "    plt.subplot(6,3,3*i+1)\n",
    "    plt.imshow(ref)\n",
    "    plt.title('Reference')\n",
    "    \n",
    "    plt.subplot(6,3,3*i+2)\n",
    "    plt.imshow(img)\n",
    "    plt.title('Original')\n",
    "    \n",
    "    plt.subplot(6,3,3*i+3)\n",
    "    plt.imshow(normed)\n",
    "    plt.title('Normalized')\n",
    "\n",
    "plt.show()\n"
   ]
  },
  {
   "cell_type": "markdown",
   "id": "bca843f4",
   "metadata": {
    "papermill": {
     "duration": 0.065195,
     "end_time": "2021-12-08T08:53:44.406230",
     "exception": false,
     "start_time": "2021-12-08T08:53:44.341035",
     "status": "completed"
    },
    "tags": []
   },
   "source": [
    "#### Patches Extraction\n",
    "- Get patches (tiles) of a histology image\n",
    "- Implement patch-wise training of model\n",
    "- Implement patient-wise test of model (vote)"
   ]
  },
  {
   "cell_type": "code",
   "execution_count": null,
   "id": "1006173f",
   "metadata": {
    "execution": {
     "iopub.execute_input": "2021-12-08T08:53:44.546671Z",
     "iopub.status.busy": "2021-12-08T08:53:44.546121Z",
     "iopub.status.idle": "2021-12-08T08:53:45.924843Z",
     "shell.execute_reply": "2021-12-08T08:53:45.925275Z",
     "shell.execute_reply.started": "2021-12-08T08:20:47.340961Z"
    },
    "papermill": {
     "duration": 1.453869,
     "end_time": "2021-12-08T08:53:45.925422",
     "exception": false,
     "start_time": "2021-12-08T08:53:44.471553",
     "status": "completed"
    },
    "tags": []
   },
   "outputs": [],
   "source": [
    "def get_tiles(img, stride=(256,256), size=(256, 256)): \n",
    "    tile_list = []\n",
    "    dim = ((img.shape[0]-size[0])//stride[0] + 1, (img.shape[1]-size[1])//stride[1] + 1)\n",
    "    for y in range(dim[0]):\n",
    "        for x in range(dim[1]):\n",
    "            tile = np.zeros_like(size + (3,))\n",
    "            tile = img[y*stride[0]:y*stride[0]+size[0], x*stride[1]:x*stride[1]+size[1], :]\n",
    "            tile_list.append(tile)\n",
    "    return tile_list, dim\n",
    "\n",
    "def show_tiles(tiles_list, dim):\n",
    "    f, ax = plt.subplots(dim[0], dim[1], figsize=(10,7.5), constrained_layout=True)\n",
    "    for i in range(dim[0]):\n",
    "        for j in range(dim[1]):\n",
    "            ax[i, j].axis('off')\n",
    "            ax[i, j].imshow(tiles_list[i*dim[1]+j])\n",
    "#     f.subplots_adjust(wspace=0.01, hspace=0.01)\n",
    "#     f.tight_layout()\n",
    "\n",
    "\n",
    "tiles_list, dim = get_tiles(cv2.imread(reference), stride=(512, 512), size=(512, 512))\n",
    "show_tiles(tiles_list, dim)"
   ]
  },
  {
   "cell_type": "code",
   "execution_count": null,
   "id": "346743f5",
   "metadata": {
    "execution": {
     "iopub.execute_input": "2021-12-08T08:53:46.130665Z",
     "iopub.status.busy": "2021-12-08T08:53:46.129922Z",
     "iopub.status.idle": "2021-12-08T08:53:46.255158Z",
     "shell.execute_reply": "2021-12-08T08:53:46.254562Z",
     "shell.execute_reply.started": "2021-12-08T08:20:48.780829Z"
    },
    "papermill": {
     "duration": 0.218746,
     "end_time": "2021-12-08T08:53:46.255294",
     "exception": false,
     "start_time": "2021-12-08T08:53:46.036548",
     "status": "completed"
    },
    "tags": []
   },
   "outputs": [],
   "source": [
    "from sklearn.model_selection import train_test_split\n",
    "\n",
    "def prepare_data():\n",
    "    ref = cv2.imread(reference)\n",
    "    dataset = []\n",
    "    y_label = []\n",
    "    for k, v in label.items():\n",
    "        patients = glob.glob(os.path.join(root, k, '*-2.*')) # find all 100x images\n",
    "        for p in patients:\n",
    "            img = cv2.imread(p)\n",
    "            img = match_histograms(img, ref, multichannel=True)\n",
    "            dataset.append(img)\n",
    "            y_label.append(v)\n",
    "    \n",
    "    dataset = np.array(dataset)\n",
    "    y_label = np.array(y_label)\n",
    "    \n",
    "    print(\"Class A samples in total: \", np.sum(y_label == 0))\n",
    "    print(\"Class B samples in total: \", np.sum(y_label == 1))\n",
    "    print(\"Class C samples in total: \", np.sum(y_label == 2))\n",
    "    \n",
    "    return dataset, y_label\n",
    "    \n"
   ]
  },
  {
   "cell_type": "code",
   "execution_count": null,
   "id": "b583d4fd",
   "metadata": {
    "execution": {
     "iopub.execute_input": "2021-12-08T08:53:46.431848Z",
     "iopub.status.busy": "2021-12-08T08:53:46.431062Z",
     "iopub.status.idle": "2021-12-08T08:56:29.030503Z",
     "shell.execute_reply": "2021-12-08T08:56:29.031011Z",
     "shell.execute_reply.started": "2021-12-08T08:20:48.921908Z"
    },
    "papermill": {
     "duration": 162.690447,
     "end_time": "2021-12-08T08:56:29.031180",
     "exception": false,
     "start_time": "2021-12-08T08:53:46.340733",
     "status": "completed"
    },
    "tags": []
   },
   "outputs": [],
   "source": [
    "dataset, y_label = prepare_data()"
   ]
  },
  {
   "cell_type": "code",
   "execution_count": null,
   "id": "27622be3",
   "metadata": {
    "execution": {
     "iopub.execute_input": "2021-12-08T08:56:29.215646Z",
     "iopub.status.busy": "2021-12-08T08:56:29.214629Z",
     "iopub.status.idle": "2021-12-08T08:56:29.216789Z",
     "shell.execute_reply": "2021-12-08T08:56:29.217399Z",
     "shell.execute_reply.started": "2021-12-08T08:23:33.863599Z"
    },
    "papermill": {
     "duration": 0.099857,
     "end_time": "2021-12-08T08:56:29.217536",
     "exception": false,
     "start_time": "2021-12-08T08:56:29.117679",
     "status": "completed"
    },
    "tags": []
   },
   "outputs": [],
   "source": [
    "import imgaug as ia\n",
    "import imgaug.augmenters as iaa\n",
    "\n",
    "def augment(img, aug=30):\n",
    "    augmented = []\n",
    "\n",
    "    # original image\n",
    "    augmented.append(img)\n",
    "    \n",
    "    # imgaug \n",
    "    seq = iaa.Sequential([\n",
    "        iaa.Sometimes(\n",
    "            0.4,\n",
    "            iaa.Fliplr(0.5)\n",
    "        ), # horizontal flips\n",
    "        \n",
    "        iaa.Sometimes(\n",
    "            0.2,\n",
    "            iaa.Crop(percent=(0, 0.1))\n",
    "        ), # random crops\n",
    "        \n",
    "        # Small gaussian blur with random sigma between 0 and 0.5.\n",
    "        # But we only blur about 50% of all images.\n",
    "        iaa.Sometimes(\n",
    "            0.4,\n",
    "            iaa.GaussianBlur(sigma=(0, 0.5))\n",
    "        ),\n",
    "        # Strengthen or weaken the contrast in each image.\n",
    "        iaa.Sometimes(\n",
    "            0.2,\n",
    "            iaa.LinearContrast((0.75, 1.5))\n",
    "        ),\n",
    "        iaa.Sometimes(\n",
    "            0.2,\n",
    "            iaa.ElasticTransformation(alpha=90, sigma=9)\n",
    "        ),\n",
    "        # Add gaussian noise.\n",
    "        # For 50% of all images, we sample the noise once per pixel.\n",
    "        # For the other 50% of all images, we sample the noise per pixel AND\n",
    "        # channel. This can change the color (not only brightness) of the\n",
    "        # pixels.\n",
    "        iaa.Sometimes(\n",
    "            0.4,\n",
    "            iaa.AdditiveGaussianNoise(loc=0, scale=(0.0, 0.05*255), per_channel=0.5)\n",
    "        ),\n",
    "        # Make some images brighter and some darker.\n",
    "        # In 20% of all cases, we sample the multiplier once per channel,\n",
    "        # which can end up changing the color of the images.\n",
    "        iaa.Sometimes(\n",
    "            0.2,\n",
    "            iaa.Multiply((0.8, 1.2), per_channel=0.2)\n",
    "        ),\n",
    "        # Apply affine transformations to each image.\n",
    "        # Scale/zoom them, translate/move them, rotate them and shear them.\n",
    "        iaa.Sometimes(\n",
    "            0.4,\n",
    "            iaa.Affine(\n",
    "                scale={\"x\": (0.8, 1.2), \"y\": (0.8, 1.2)},\n",
    "                translate_percent={\"x\": (-0.2, 0.2), \"y\": (-0.2, 0.2)},\n",
    "                rotate=(-25, 25),\n",
    "                shear=(-8, 8)\n",
    "            )\n",
    "        )\n",
    "    ], random_order=True) # apply augmenters in random order\n",
    "    \n",
    "    for _ in range(aug):\n",
    "        img_aug = seq(image=img)\n",
    "        augmented.append(img_aug)\n",
    "    \n",
    "    return augmented"
   ]
  },
  {
   "cell_type": "code",
   "execution_count": null,
   "id": "4f0164e6",
   "metadata": {
    "execution": {
     "iopub.execute_input": "2021-12-08T08:56:29.399550Z",
     "iopub.status.busy": "2021-12-08T08:56:29.398426Z",
     "iopub.status.idle": "2021-12-08T08:58:09.488388Z",
     "shell.execute_reply": "2021-12-08T08:58:09.487908Z",
     "shell.execute_reply.started": "2021-12-08T08:36:54.702669Z"
    },
    "papermill": {
     "duration": 100.186797,
     "end_time": "2021-12-08T08:58:09.488522",
     "exception": false,
     "start_time": "2021-12-08T08:56:29.301725",
     "status": "completed"
    },
    "tags": []
   },
   "outputs": [],
   "source": [
    "randomize = np.arange(len(dataset))\n",
    "np.random.shuffle(randomize)\n",
    "dataset = dataset[randomize]\n",
    "y_label = y_label[randomize]\n",
    "\n",
    "patches_train = []\n",
    "patches_label = []\n",
    "x_test = []\n",
    "y_test = []\n",
    "num_test = 7\n",
    "num = {\n",
    "    0: 0,\n",
    "    1: 0,\n",
    "    2: 0\n",
    "}\n",
    "\n",
    "from progressbar import ProgressBar\n",
    "pb = ProgressBar()\n",
    "for i in pb(range(len(dataset))):\n",
    "    if num[y_label[i]] < num_test:\n",
    "        x_test.append(dataset[i])\n",
    "        y_test.append(y_label[i])\n",
    "        num[y_label[i]] = num[y_label[i]] + 1\n",
    "    else:\n",
    "        aug = 2\n",
    "        if y_label[i] == 0 or y_label[i] == 1:\n",
    "            aug = 20\n",
    "        stride = (512, 512)\n",
    "        size = (512, 512)\n",
    "        tiles, _ = get_tiles(dataset[i], stride=stride, size=size)\n",
    "        for t in tiles:\n",
    "            augmented = augment(t, aug=aug)\n",
    "            for a in augmented:\n",
    "                patches_train.append(cv2.resize(a, (256,256)))\n",
    "                patches_label.append(y_label[i])\n",
    "\n",
    "patches_train = np.array(patches_train)\n",
    "patches_label = np.array(patches_label)\n",
    "x_test = np.array(x_test)\n",
    "y_test = np.array(y_test)\n",
    "\n",
    "rd = np.arange(len(patches_train))\n",
    "np.random.shuffle(rd)\n",
    "patches_train = patches_train[rd]\n",
    "patches_label = patches_label[rd]"
   ]
  },
  {
   "cell_type": "code",
   "execution_count": null,
   "id": "9dd8e011",
   "metadata": {
    "execution": {
     "iopub.execute_input": "2021-12-08T08:58:09.723539Z",
     "iopub.status.busy": "2021-12-08T08:58:09.722814Z",
     "iopub.status.idle": "2021-12-08T08:58:09.725784Z",
     "shell.execute_reply": "2021-12-08T08:58:09.726187Z",
     "shell.execute_reply.started": "2021-12-08T08:38:41.733828Z"
    },
    "papermill": {
     "duration": 0.122651,
     "end_time": "2021-12-08T08:58:09.726319",
     "exception": false,
     "start_time": "2021-12-08T08:58:09.603668",
     "status": "completed"
    },
    "tags": []
   },
   "outputs": [],
   "source": [
    "print('number of patches: ', len(patches_train))\n",
    "print(\"Class A samples in total: \", np.sum(patches_label == 0))\n",
    "print(\"Class B samples in total: \", np.sum(patches_label == 1))\n",
    "print(\"Class C samples in total: \", np.sum(patches_label == 2))"
   ]
  },
  {
   "cell_type": "markdown",
   "id": "d77a5362",
   "metadata": {
    "papermill": {
     "duration": 0.119529,
     "end_time": "2021-12-08T08:58:09.964246",
     "exception": false,
     "start_time": "2021-12-08T08:58:09.844717",
     "status": "completed"
    },
    "tags": []
   },
   "source": [
    "#### ResNet Model Transfer Learning"
   ]
  },
  {
   "cell_type": "code",
   "execution_count": null,
   "id": "11711d34",
   "metadata": {
    "execution": {
     "iopub.execute_input": "2021-12-08T08:58:10.198813Z",
     "iopub.status.busy": "2021-12-08T08:58:10.198097Z",
     "iopub.status.idle": "2021-12-08T08:58:13.757716Z",
     "shell.execute_reply": "2021-12-08T08:58:13.758253Z",
     "shell.execute_reply.started": "2021-12-08T08:38:44.817744Z"
    },
    "papermill": {
     "duration": 3.679111,
     "end_time": "2021-12-08T08:58:13.758423",
     "exception": false,
     "start_time": "2021-12-08T08:58:10.079312",
     "status": "completed"
    },
    "tags": []
   },
   "outputs": [],
   "source": [
    "import tensorflow as tf"
   ]
  },
  {
   "cell_type": "code",
   "execution_count": null,
   "id": "9f78f055",
   "metadata": {
    "execution": {
     "iopub.execute_input": "2021-12-08T08:58:13.998820Z",
     "iopub.status.busy": "2021-12-08T08:58:13.998034Z",
     "iopub.status.idle": "2021-12-08T08:58:18.906665Z",
     "shell.execute_reply": "2021-12-08T08:58:18.905888Z",
     "shell.execute_reply.started": "2021-12-08T08:38:48.876481Z"
    },
    "papermill": {
     "duration": 5.027984,
     "end_time": "2021-12-08T08:58:18.906861",
     "exception": false,
     "start_time": "2021-12-08T08:58:13.878877",
     "status": "completed"
    },
    "tags": []
   },
   "outputs": [],
   "source": [
    "IMG_SHAPE = (256, 256, 3)\n",
    "base_model = tf.keras.applications.ResNet50(input_shape=IMG_SHAPE,\n",
    "                                               include_top=False,\n",
    "                                               weights='imagenet')"
   ]
  },
  {
   "cell_type": "code",
   "execution_count": null,
   "id": "9aada753",
   "metadata": {
    "execution": {
     "iopub.execute_input": "2021-12-08T08:58:19.161377Z",
     "iopub.status.busy": "2021-12-08T08:58:19.160669Z",
     "iopub.status.idle": "2021-12-08T08:58:19.163645Z",
     "shell.execute_reply": "2021-12-08T08:58:19.164120Z",
     "shell.execute_reply.started": "2021-12-08T08:38:51.707394Z"
    },
    "papermill": {
     "duration": 0.136554,
     "end_time": "2021-12-08T08:58:19.164263",
     "exception": false,
     "start_time": "2021-12-08T08:58:19.027709",
     "status": "completed"
    },
    "tags": []
   },
   "outputs": [],
   "source": [
    "base_model.trainable = True\n",
    "print(\"Number of layers in the base model: \", len(base_model.layers))\n",
    "fine_tune_at = 300\n",
    "for layer in base_model.layers[:fine_tune_at]:\n",
    "  layer.trainable =  False"
   ]
  },
  {
   "cell_type": "code",
   "execution_count": null,
   "id": "5cf36f99",
   "metadata": {
    "execution": {
     "iopub.execute_input": "2021-12-08T08:58:19.454797Z",
     "iopub.status.busy": "2021-12-08T08:58:19.453973Z",
     "iopub.status.idle": "2021-12-08T08:58:19.843752Z",
     "shell.execute_reply": "2021-12-08T08:58:19.842430Z",
     "shell.execute_reply.started": "2021-12-08T08:38:54.332848Z"
    },
    "papermill": {
     "duration": 0.561444,
     "end_time": "2021-12-08T08:58:19.843932",
     "exception": false,
     "start_time": "2021-12-08T08:58:19.282488",
     "status": "completed"
    },
    "tags": []
   },
   "outputs": [],
   "source": [
    "model = tf.keras.Sequential([\n",
    "    base_model,\n",
    "    tf.keras.layers.GlobalAveragePooling2D(),\n",
    "    tf.keras.layers.Dense(128, activation='relu'),\n",
    "    tf.keras.layers.Dense(3, activation='sigmoid')\n",
    "])\n",
    "\n",
    "model.summary()"
   ]
  },
  {
   "cell_type": "code",
   "execution_count": null,
   "id": "149bcb2e",
   "metadata": {
    "execution": {
     "iopub.execute_input": "2021-12-08T08:58:20.096611Z",
     "iopub.status.busy": "2021-12-08T08:58:20.096045Z",
     "iopub.status.idle": "2021-12-08T08:58:20.105482Z",
     "shell.execute_reply": "2021-12-08T08:58:20.104487Z",
     "shell.execute_reply.started": "2021-12-08T08:38:58.216606Z"
    },
    "papermill": {
     "duration": 0.139688,
     "end_time": "2021-12-08T08:58:20.105604",
     "exception": false,
     "start_time": "2021-12-08T08:58:19.965916",
     "status": "completed"
    },
    "tags": []
   },
   "outputs": [],
   "source": [
    "base_learning_rate = 0.001\n",
    "model.compile(optimizer=tf.keras.optimizers.Adam(learning_rate=base_learning_rate),\n",
    "              loss=tf.keras.losses.SparseCategoricalCrossentropy(),\n",
    "              metrics=['accuracy'])"
   ]
  },
  {
   "cell_type": "code",
   "execution_count": null,
   "id": "cf9e0967",
   "metadata": {
    "execution": {
     "iopub.execute_input": "2021-12-08T08:58:20.352082Z",
     "iopub.status.busy": "2021-12-08T08:58:20.351151Z",
     "iopub.status.idle": "2021-12-08T09:06:47.670417Z",
     "shell.execute_reply": "2021-12-08T09:06:47.669916Z",
     "shell.execute_reply.started": "2021-12-08T08:39:01.034468Z"
    },
    "papermill": {
     "duration": 507.44585,
     "end_time": "2021-12-08T09:06:47.670562",
     "exception": false,
     "start_time": "2021-12-08T08:58:20.224712",
     "status": "completed"
    },
    "tags": []
   },
   "outputs": [],
   "source": [
    "history = model.fit(x=patches_train, y=patches_label, validation_split=0.3, \n",
    "                    shuffle=True, epochs=20, batch_size=16)"
   ]
  },
  {
   "cell_type": "code",
   "execution_count": null,
   "id": "4053f7c3",
   "metadata": {
    "execution": {
     "iopub.execute_input": "2021-12-08T09:06:50.196022Z",
     "iopub.status.busy": "2021-12-08T09:06:50.195401Z",
     "iopub.status.idle": "2021-12-08T09:06:50.198777Z",
     "shell.execute_reply": "2021-12-08T09:06:50.198315Z",
     "shell.execute_reply.started": "2021-12-08T08:35:48.219678Z"
    },
    "papermill": {
     "duration": 1.266355,
     "end_time": "2021-12-08T09:06:50.198905",
     "exception": false,
     "start_time": "2021-12-08T09:06:48.932550",
     "status": "completed"
    },
    "tags": []
   },
   "outputs": [],
   "source": [
    "def predict(x,model):\n",
    "    y_predict = []\n",
    "    for img in x:\n",
    "        tiles, _ = get_tiles(img, size=(512,512), stride=(512,512))\n",
    "        tiles = [ cv2.resize(t, (256,256)) for t in tiles]\n",
    "        vote = model.predict(np.array(tiles))\n",
    "        vote = np.argmax(vote, axis=1)\n",
    "        y_predict.append(np.argmax(np.bincount(np.array(vote))))\n",
    "    \n",
    "    return y_predict"
   ]
  },
  {
   "cell_type": "code",
   "execution_count": null,
   "id": "0d73697c",
   "metadata": {
    "execution": {
     "iopub.execute_input": "2021-12-08T09:06:53.037771Z",
     "iopub.status.busy": "2021-12-08T09:06:53.036718Z",
     "iopub.status.idle": "2021-12-08T09:06:55.551924Z",
     "shell.execute_reply": "2021-12-08T09:06:55.551410Z"
    },
    "papermill": {
     "duration": 4.091686,
     "end_time": "2021-12-08T09:06:55.552063",
     "exception": false,
     "start_time": "2021-12-08T09:06:51.460377",
     "status": "completed"
    },
    "tags": []
   },
   "outputs": [],
   "source": [
    "y_pred = predict(x_test, model)"
   ]
  },
  {
   "cell_type": "code",
   "execution_count": null,
   "id": "2b74c4ff",
   "metadata": {
    "execution": {
     "iopub.execute_input": "2021-12-08T09:06:58.101909Z",
     "iopub.status.busy": "2021-12-08T09:06:58.101295Z",
     "iopub.status.idle": "2021-12-08T09:06:58.106595Z",
     "shell.execute_reply": "2021-12-08T09:06:58.107110Z"
    },
    "papermill": {
     "duration": 1.283379,
     "end_time": "2021-12-08T09:06:58.107324",
     "exception": false,
     "start_time": "2021-12-08T09:06:56.823945",
     "status": "completed"
    },
    "tags": []
   },
   "outputs": [],
   "source": [
    "from sklearn.metrics import confusion_matrix\n",
    "\n",
    "try:\n",
    "    print((y_test == np.array(y_pred)).sum() / len(y_pred))\n",
    "except:\n",
    "    print('Woops')\n",
    "\n",
    "print(y_test)\n",
    "print(np.array(y_pred))\n",
    "\n",
    "cm = confusion_matrix(y_test, y_pred)\n",
    "print(cm)"
   ]
  }
 ],
 "metadata": {
  "kernelspec": {
   "display_name": "Python 3",
   "language": "python",
   "name": "python3"
  },
  "language_info": {
   "codemirror_mode": {
    "name": "ipython",
    "version": 3
   },
   "file_extension": ".py",
   "mimetype": "text/x-python",
   "name": "python",
   "nbconvert_exporter": "python",
   "pygments_lexer": "ipython3",
   "version": "3.7.10"
  },
  "papermill": {
   "default_parameters": {},
   "duration": 823.934507,
   "end_time": "2021-12-08T09:07:02.739841",
   "environment_variables": {},
   "exception": null,
   "input_path": "__notebook__.ipynb",
   "output_path": "__notebook__.ipynb",
   "parameters": {},
   "start_time": "2021-12-08T08:53:18.805334",
   "version": "2.3.3"
  }
 },
 "nbformat": 4,
 "nbformat_minor": 5
}
